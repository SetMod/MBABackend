{
 "cells": [
  {
   "cell_type": "code",
   "execution_count": null,
   "metadata": {},
   "outputs": [],
   "source": [
    "import pandas as pd\n",
    "from mlxtend.frequent_patterns import fpgrowth\n",
    "from mlxtend.frequent_patterns import association_rules\n",
    "import matplotlib.pyplot as plt\n",
    "from matplotlib import style\n",
    "import numpy as np"
   ]
  },
  {
   "cell_type": "code",
   "execution_count": null,
   "metadata": {},
   "outputs": [],
   "source": [
    "read_df = pd.read_csv('data/preprocessed_transactions.csv')\n",
    "df = read_df.copy()\n",
    "\n",
    "print(df.head(10))\n",
    "print(df.info())\n",
    "print(df.shape)\n",
    "print(df.size)"
   ]
  },
  {
   "cell_type": "code",
   "execution_count": null,
   "metadata": {},
   "outputs": [],
   "source": [
    "df.isna().sum()"
   ]
  },
  {
   "cell_type": "code",
   "execution_count": null,
   "metadata": {},
   "outputs": [],
   "source": [
    "df = df[df.UserId > 0]\n",
    "df = df[df.ItemCode > 0]\n",
    "df = df[df.NumberOfItemsPurchased > 0]\n",
    "df = df[df.CostPerItem > 0]\n",
    "df = df[df.ItemDescription.notna()]\n",
    "df = df[df.TransactionTime.str[-4:] != '2028']\n",
    "df = df[:1000]\n",
    "# df.to_csv('./data/preprocesed_data.csv',index=False)\n",
    "print(df.info())\n",
    "print(df.head(10))"
   ]
  },
  {
   "cell_type": "code",
   "execution_count": null,
   "metadata": {},
   "outputs": [],
   "source": [
    "# Lets do some exploratory data analysis now. Lets see the no. of transactions being done in each part of the year.\n",
    "df.TransactionTime = pd.to_datetime(df.TransactionTime)\n",
    "df['month_year'] = pd.to_datetime(df.TransactionTime).dt.to_period('M')\n",
    "df.sort_values(by=['month_year'], inplace=True)\n",
    "Ser = df.groupby('month_year').TransactionId.nunique()\n",
    "x = np.arange(0, len(Ser), 1)"
   ]
  },
  {
   "cell_type": "code",
   "execution_count": null,
   "metadata": {},
   "outputs": [],
   "source": [
    "style.use('ggplot')\n",
    "fig = plt.figure(figsize=(10, 10))\n",
    "ax1 = fig.add_subplot(111)\n",
    "ax1.plot(x, Ser, color='k')\n",
    "ax1.fill_between(x, Ser, color='r', alpha=0.5)\n",
    "ax1.set_xticks(x)\n",
    "ax1.set_xticklabels(Ser.index)\n",
    "plt.xlabel('Time period')\n",
    "plt.ylabel('No. of transactions')\n",
    "# plt.savefig('./images/graph1.png')"
   ]
  },
  {
   "cell_type": "code",
   "execution_count": null,
   "metadata": {},
   "outputs": [],
   "source": [
    "Ser = df.groupby('TransactionId').ItemDescription.nunique()\n",
    "Ser.describe()"
   ]
  },
  {
   "cell_type": "code",
   "execution_count": null,
   "metadata": {},
   "outputs": [],
   "source": [
    "bins = [0,10,20,30,40,50,60,70,80,90,100,110,120,130,140,150,160,170,180,190,200]\n",
    "fig = plt.figure(figsize = (10,10))\n",
    "ax1 = fig.add_subplot(111)\n",
    "ax1.hist(Ser, bins, histtype = 'bar', rwidth = 0.5)\n",
    "ax1.set_xticks(bins)\n",
    "plt.xlabel('No. of items')\n",
    "plt.ylabel('No. of transactions')\n",
    "plt.show()"
   ]
  },
  {
   "cell_type": "code",
   "execution_count": null,
   "metadata": {},
   "outputs": [],
   "source": [
    "df['total_cost_item'] = df.NumberOfItemsPurchased*df.CostPerItem\n",
    "Ser = df.groupby('ItemDescription').total_cost_item.sum()\n",
    "Ser.sort_values(ascending = False, inplace = True)\n",
    "Ser = Ser[:10]\n",
    "fig = plt.figure(figsize = (10,10))\n",
    "ax = fig.add_subplot(111)\n",
    "ax.barh(Ser.index, Ser, height = 0.5)"
   ]
  },
  {
   "cell_type": "code",
   "execution_count": null,
   "metadata": {},
   "outputs": [],
   "source": [
    "df = pd.read_csv('./data/preprocesed_data.csv')\n",
    "df_set = df.groupby(['TransactionId', 'ItemDescription']).NumberOfItemsPurchased.sum().unstack().reset_index().fillna(0).set_index('TransactionId')\n",
    "df_set.head()"
   ]
  },
  {
   "cell_type": "code",
   "execution_count": null,
   "metadata": {},
   "outputs": [],
   "source": [
    "print(df_set.info())\n",
    "print(df_set.shape)"
   ]
  },
  {
   "cell_type": "code",
   "execution_count": null,
   "metadata": {},
   "outputs": [],
   "source": [
    "# df_set = df_set.applymap(lambda x: 0 if x <= 0 else 1) # tooooooooooo slowwwwwwwwww\n",
    "df_set = (df_set > 0).astype(np.int8)\n",
    "# df_set.to_csv('./data/transactions.csv',index=False)\n",
    "df_set"
   ]
  },
  {
   "cell_type": "code",
   "execution_count": null,
   "metadata": {},
   "outputs": [],
   "source": [
    "# take only 10000 rows to be able to process data because of not enought memory\n",
    "df_set = pd.read_csv('./data/transactions.csv')\n",
    "frequent_itemsets = fpgrowth(df_set, min_support = 0.015, max_len=4, use_colnames = True)\n",
    "# frequent_itemsets['itemsets'] = frequent_itemsets['itemsets'].apply(lambda x: tuple(x))\n",
    "# frequent_itemsets.to_csv('./data/frequent_itemsets.csv',index=False)\n",
    "frequent_itemsets"
   ]
  },
  {
   "cell_type": "code",
   "execution_count": null,
   "metadata": {},
   "outputs": [],
   "source": [
    "frequent_itemsets.sort_values('support', ascending=False)"
   ]
  },
  {
   "cell_type": "code",
   "execution_count": null,
   "metadata": {},
   "outputs": [],
   "source": [
    "frequent_itemsets = pd.read_csv('./data/frequent_itemsets.csv')\n",
    "frequent_itemsets"
   ]
  },
  {
   "cell_type": "code",
   "execution_count": null,
   "metadata": {},
   "outputs": [],
   "source": [
    "\n",
    "top_items = frequent_itemsets.sort_values('support', ascending = False)[:20]\n",
    "for i in range(len(top_items.itemsets)):\n",
    "    top_items.itemsets.iloc[i] = str(list(top_items.itemsets.iloc[i]))\n",
    "fig = plt.figure(figsize = (10,10))\n",
    "ax = fig.add_subplot(111)\n",
    "ax.bar(top_items.itemsets, top_items.support)\n",
    "for label in ax.xaxis.get_ticklabels():\n",
    "    label.set_rotation(90)\n",
    "plt.xlabel('Item')\n",
    "plt.ylabel('Support')\n",
    "# plt.savefig('./images/figure1.png')\n",
    "plt.show()"
   ]
  },
  {
   "cell_type": "code",
   "execution_count": null,
   "metadata": {},
   "outputs": [],
   "source": [
    "rules = association_rules(\n",
    "    frequent_itemsets, metric='confidence', min_threshold=0.2)\n",
    "rules"
   ]
  },
  {
   "cell_type": "code",
   "execution_count": null,
   "metadata": {},
   "outputs": [],
   "source": [
    "rules.describe()"
   ]
  },
  {
   "cell_type": "code",
   "execution_count": null,
   "metadata": {},
   "outputs": [],
   "source": [
    "top_rules = rules.sort_values('confidence', ascending=False)[:10]\n",
    "top_rules"
   ]
  },
  {
   "cell_type": "code",
   "execution_count": null,
   "metadata": {},
   "outputs": [],
   "source": [
    "rules.describe()"
   ]
  },
  {
   "cell_type": "code",
   "execution_count": null,
   "metadata": {},
   "outputs": [],
   "source": [
    "fig = plt.figure(figsize=(10, 10))\n",
    "ax = fig.add_subplot(111)\n",
    "ax.scatter(top_rules.support, top_rules.confidence, top_rules.lift)"
   ]
  },
  {
   "cell_type": "code",
   "execution_count": null,
   "metadata": {},
   "outputs": [],
   "source": [
    "import networkx as nx\n",
    "G1 = nx.DiGraph()\n",
    "color_map = []\n",
    "N = 50\n",
    "colors = np.random.rand(N)\n",
    "strs = ['r0', 'r1', 'r2', 'r3', 'r4', 'r5', 'r6', 'r7', 'r8', 'r9']\n",
    "for i in range(10):\n",
    "    G1.add_nodes_from('r'+str(i))\n",
    "    for a in top_rules.iloc[i]['antecedents']:\n",
    "        G1.add_nodes_from([a])\n",
    "        G1.add_edge(a, 'r'+str(i), color = colors[i], weight = 2)\n",
    "    for c in top_rules.iloc[i]['consequents']:\n",
    "        G1.add_nodes_from([c])\n",
    "        G1.add_edge('r'+str(i), c, color = colors[i], weight = 2)\n",
    "for node in G1:\n",
    "    found_a_string = False\n",
    "    for item in strs:\n",
    "        if node == item:\n",
    "            found_a_string = True\n",
    "    if found_a_string:\n",
    "        color_map.append('red')\n",
    "    else:\n",
    "        color_map.append('black')\n",
    "edges = G1.edges()\n",
    "colors = [G1[u][v]['color'] for u,v in edges]\n",
    "weights = [G1[u][v]['weight'] for u,v in edges]\n",
    "pos = nx.spring_layout(G1, k = 16, scale = 1)\n",
    "fig = plt.figure(figsize = (20,20))\n",
    "nx.draw(G1, pos, node_color = color_map, edge_color = colors, width = weights, font_size = 16, with_labels = False)\n",
    "for p in pos:\n",
    "    pos[p][1] += 0.07\n",
    "\n",
    "nx.draw_networkx_labels(G1, pos)\n",
    "plt.savefig('./images/web1.png')\n",
    "plt.show()"
   ]
  }
 ],
 "metadata": {
  "interpreter": {
   "hash": "75d9dce88fa223452f9376239a21061c5ee54cb770b6e8b17cf9458f83fe0ef3"
  },
  "kernelspec": {
   "display_name": "Python 3.9.10 ('venv': venv)",
   "language": "python",
   "name": "python3"
  },
  "language_info": {
   "codemirror_mode": {
    "name": "ipython",
    "version": 3
   },
   "file_extension": ".py",
   "mimetype": "text/x-python",
   "name": "python",
   "nbconvert_exporter": "python",
   "pygments_lexer": "ipython3",
   "version": "3.9.10"
  },
  "orig_nbformat": 4
 },
 "nbformat": 4,
 "nbformat_minor": 2
}
